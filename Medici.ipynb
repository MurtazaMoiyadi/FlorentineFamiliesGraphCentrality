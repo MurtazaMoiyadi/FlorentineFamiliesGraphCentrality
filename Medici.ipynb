{
 "cells": [
  {
   "cell_type": "code",
   "execution_count": 1,
   "metadata": {},
   "outputs": [],
   "source": [
    "import networkx as nx\n",
    "import matplotlib.pyplot as plt"
   ]
  },
  {
   "cell_type": "code",
   "execution_count": 198,
   "metadata": {},
   "outputs": [],
   "source": [
    "\n",
    "G=nx.Graph()\n",
    "G.add_nodes_from([\"Peruzzi\",\"Bischeri\",\"Strozzi\",\"Lamberteschi\",\"Guadagni\",\"Castellani\", \"Ridolfi\",\"Tornabuoni\",\n",
    "                  \"Barbadori\", \"Medici\", \"Albizzi\",\"Ginori\",\"Salviati\", \"Pazzi\", \"Acciaiuoli\"])"
   ]
  },
  {
   "cell_type": "code",
   "execution_count": 199,
   "metadata": {},
   "outputs": [
    {
     "name": "stdout",
     "output_type": "stream",
     "text": [
      "Nodes of graph: \n",
      "['Peruzzi', 'Bischeri', 'Strozzi', 'Lamberteschi', 'Guadagni', 'Castellani', 'Ridolfi', 'Tornabuoni', 'Barbadori', 'Medici', 'Albizzi', 'Ginori', 'Salviati', 'Pazzi', 'Acciaiuoli']\n"
     ]
    }
   ],
   "source": [
    "print(\"Nodes of graph: \")\n",
    "print(G.nodes())"
   ]
  },
  {
   "cell_type": "code",
   "execution_count": 200,
   "metadata": {},
   "outputs": [],
   "source": [
    "G.add_edges_from([(\"Peruzzi\",\"Bischeri\"),(\"Peruzzi\",\"Strozzi\"), (\"Peruzzi\",\"Castellani\"), \n",
    "                  (\"Bischeri\",\"Strozzi\"), (\"Bischeri\",\"Guadagni\"),\n",
    "                 (\"Strozzi\", \"Castellani\"), (\"Strozzi\", \"Ridolfi\"),\n",
    "                 (\"Lamberteschi\",\"Guadagni\"),\n",
    "                 (\"Guadagni\", \"Tornabuoni\"), (\"Guadagni\", \"Albizzi\"),\n",
    "                 (\"Castellani\",\"Barbadori\"),\n",
    "                 (\"Ridolfi\", \"Medici\"), (\"Ridolfi\",\"Tornabuoni\"),\n",
    "                  (\"Tornabuoni\", \"Medici\"),\n",
    "                  (\"Barbadori\",\"Medici\"),\n",
    "                  (\"Medici\", \"Albizzi\"), (\"Medici\", \"Acciaiuoli\"), (\"Medici\", \"Salviati\"),\n",
    "                  (\"Albizzi\", \"Ginori\"),\n",
    "                  (\"Salviati\", \"Pazzi\")])"
   ]
  },
  {
   "cell_type": "code",
   "execution_count": 201,
   "metadata": {},
   "outputs": [
    {
     "data": {
      "image/png": "[encoded data removed]",
      "text/plain": [
       "<Figure size 432x288 with 1 Axes>"
      ]
     },
     "metadata": {},
     "output_type": "display_data"
    }
   ],
   "source": [
    "nx.draw(G, k=0.75, iterations=10, with_labels=True, font_size=8, font_weight=\"bold\", edgecolors='black', node_size=1500)"
   ]
  },
  {
   "cell_type": "code",
   "execution_count": 193,
   "metadata": {},
   "outputs": [
    {
     "name": "stdout",
     "output_type": "stream",
     "text": [
      "#nodes: 16 and #edges: 20\n"
     ]
    }
   ],
   "source": [
    " print('#nodes:', len(G.nodes()), 'and', '#edges:', len(G.edges()))"
   ]
  },
  {
   "cell_type": "code",
   "execution_count": 14,
   "metadata": {},
   "outputs": [
    {
     "name": "stdout",
     "output_type": "stream",
     "text": [
      "(Medici,  0.4)\n",
      "(Strozzi,  0.267)\n",
      "(Guadagni,  0.267)\n",
      "(Peruzzi,  0.2)\n",
      "(Bischeri,  0.2)\n",
      "(Castellani,  0.2)\n",
      "(Ridolfi,  0.2)\n",
      "(Tornabuoni,  0.2)\n",
      "(Albizzi,  0.2)\n",
      "(Barbadori,  0.133)\n",
      "(Salviati,  0.133)\n",
      "(Lamberteschi,  0.067)\n",
      "(Ginori,  0.067)\n",
      "(Pazzi,  0.067)\n",
      "(Acciaiuoli,  0.067)\n",
      "(Pucci,  0.0)\n"
     ]
    }
   ],
   "source": [
    "# Degree Centrality\n",
    "degree_centrality = nx.degree_centrality(G)\n",
    "\n",
    "sort = sorted(degree_centrality.items(), key=lambda x: x[1], reverse=True)\n",
    "for i in sort:\n",
    "    print(\"(\" + i[0]+ \", \", str(round(i[1], 3)) + \")\")"
   ]
  },
  {
   "cell_type": "code",
   "execution_count": 15,
   "metadata": {},
   "outputs": [
    {
     "name": "stdout",
     "output_type": "stream",
     "text": [
      "(Medici,  0.523)\n",
      "(Ridolfi,  0.467)\n",
      "(Tornabuoni,  0.451)\n",
      "(Albizzi,  0.451)\n",
      "(Guadagni,  0.436)\n",
      "(Strozzi,  0.408)\n",
      "(Barbadori,  0.408)\n",
      "(Bischeri,  0.373)\n",
      "(Castellani,  0.363)\n",
      "(Salviati,  0.363)\n",
      "(Peruzzi,  0.344)\n",
      "(Acciaiuoli,  0.344)\n",
      "(Ginori,  0.311)\n",
      "(Lamberteschi,  0.304)\n",
      "(Pazzi,  0.267)\n",
      "(Pucci,  0.0)\n"
     ]
    }
   ],
   "source": [
    "# Closeness Centrality\n",
    "closeness_centrality = nx.closeness_centrality(G)\n",
    "sort = sorted(closeness_centrality.items(), key=lambda x: x[1], reverse=True)\n",
    "for i in sort:\n",
    "\tprint(\"(\" + i[0]+ \", \", str(round(i[1], 3)) + \")\")"
   ]
  },
  {
   "cell_type": "code",
   "execution_count": 16,
   "metadata": {},
   "outputs": [
    {
     "name": "stdout",
     "output_type": "stream",
     "text": [
      "(Medici,  0.452)\n",
      "(Guadagni,  0.221)\n",
      "(Albizzi,  0.184)\n",
      "(Salviati,  0.124)\n",
      "(Ridolfi,  0.098)\n",
      "(Bischeri,  0.09)\n",
      "(Strozzi,  0.089)\n",
      "(Barbadori,  0.081)\n",
      "(Tornabuoni,  0.079)\n",
      "(Castellani,  0.048)\n",
      "(Peruzzi,  0.019)\n",
      "(Lamberteschi,  0.0)\n",
      "(Ginori,  0.0)\n",
      "(Pazzi,  0.0)\n",
      "(Acciaiuoli,  0.0)\n",
      "(Pucci,  0.0)\n"
     ]
    }
   ],
   "source": [
    "# Betweenness Centrality\n",
    "betweenness_centrality = nx.betweenness_centrality(G)\n",
    "sort = sorted(betweenness_centrality.items(), key=lambda x: x[1], reverse=True)\n",
    "for i in sort:\n",
    "\tprint(\"(\" + i[0]+ \", \", str(round(i[1], 3)) + \")\")"
   ]
  },
  {
   "cell_type": "code",
   "execution_count": 17,
   "metadata": {},
   "outputs": [
    {
     "name": "stdout",
     "output_type": "stream",
     "text": [
      "(Medici,  0.43)\n",
      "(Strozzi,  0.356)\n",
      "(Ridolfi,  0.342)\n",
      "(Tornabuoni,  0.326)\n",
      "(Guadagni,  0.289)\n",
      "(Bischeri,  0.283)\n",
      "(Peruzzi,  0.276)\n",
      "(Castellani,  0.259)\n",
      "(Albizzi,  0.244)\n",
      "(Barbadori,  0.212)\n",
      "(Salviati,  0.146)\n",
      "(Acciaiuoli,  0.132)\n",
      "(Lamberteschi,  0.089)\n",
      "(Ginori,  0.075)\n",
      "(Pazzi,  0.045)\n",
      "(Pucci,  0.0)\n"
     ]
    }
   ],
   "source": [
    "# Eigenvector Centrality\n",
    "eigenvector_centrality = nx.eigenvector_centrality(G)\n",
    "sort = sorted(eigenvector_centrality.items(), key=lambda x: x[1], reverse=True)\n",
    "for i in sort:\n",
    "\tprint(\"(\" + i[0]+ \", \", str(round(i[1], 3)) + \")\")"
   ]
  },
  {
   "cell_type": "code",
   "execution_count": 18,
   "metadata": {},
   "outputs": [
    {
     "name": "stdout",
     "output_type": "stream",
     "text": [
      "(Medici,  0.144)\n",
      "(Guadagni,  0.097)\n",
      "(Strozzi,  0.087)\n",
      "(Albizzi,  0.078)\n",
      "(Tornabuoni,  0.071)\n",
      "(Ridolfi,  0.069)\n",
      "(Castellani,  0.069)\n",
      "(Bischeri,  0.068)\n",
      "(Peruzzi,  0.067)\n",
      "(Salviati,  0.061)\n",
      "(Barbadori,  0.05)\n",
      "(Pazzi,  0.036)\n",
      "(Ginori,  0.032)\n",
      "(Lamberteschi,  0.031)\n",
      "(Acciaiuoli,  0.03)\n",
      "(Pucci,  0.01)\n"
     ]
    }
   ],
   "source": [
    "# PageRank Centrality\n",
    "pagerank_centrality = nx.pagerank(G)\n",
    "sort = sorted(pagerank_centrality.items(), key=lambda x: x[1], reverse=True)\n",
    "for i in sort:\n",
    "\tprint(\"(\" + i[0]+ \", \", str(round(i[1], 3)) + \")\")"
   ]
  },
  {
   "cell_type": "code",
   "execution_count": null,
   "metadata": {},
   "outputs": [],
   "source": []
  }
 ],
 "metadata": {
  "kernelspec": {
   "display_name": "Python 3",
   "language": "python",
   "name": "python3"
  },
  "language_info": {
   "codemirror_mode": {
    "name": "ipython",
    "version": 3
   },
   "file_extension": ".py",
   "mimetype": "text/x-python",
   "name": "python",
   "nbconvert_exporter": "python",
   "pygments_lexer": "ipython3",
   "version": "3.7.3"
  }
 },
 "nbformat": 4,
 "nbformat_minor": 2
}
